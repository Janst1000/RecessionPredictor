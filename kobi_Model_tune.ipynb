{
 "cells": [
  {
   "cell_type": "code",
   "execution_count": null,
   "metadata": {},
   "outputs": [],
   "source": []
  }
 ],
 "metadata": {
  "kernelspec": {
   "display_name": "Python 3.10.6 ('aoec')",
   "language": "python",
   "name": "python3"
  },
  "language_info": {
   "name": "python",
   "version": "3.10.6"
  },
  "orig_nbformat": 4,
  "vscode": {
   "interpreter": {
    "hash": "91451d2717b293ab1918e7bedc6eb446bee8f39466ab7fbf6e6f1f4ec46915a3"
   }
  }
 },
 "nbformat": 4,
 "nbformat_minor": 2
}
